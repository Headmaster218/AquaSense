{
 "cells": [
  {
   "cell_type": "code",
   "execution_count": 114,
   "metadata": {},
   "outputs": [],
   "source": [
    "import pandas as pd\n",
    "import numpy as np\n",
    "import matplotlib.pyplot as plt\n",
    "from sklearn.model_selection import train_test_split\n",
    "import torch\n",
    "import torch.nn as nn\n",
    "import torch.optim as optim\n",
    "from torch.utils.data import DataLoader, TensorDataset\n",
    "\n",
    "from sklearn.decomposition import PCA\n",
    "from sklearn.feature_selection import SelectKBest, f_regression"
   ]
  },
  {
   "cell_type": "code",
   "execution_count": 115,
   "metadata": {},
   "outputs": [
    {
     "data": {
      "text/plain": [
       "'\\n# 去除空数据\\n\\ndf = pd.read_csv(\\'filtered_data.csv\\')\\n\\ncolumns_to_check = [\\'Cond @ 25C\\', \\'Oxygen Diss\\', \\'Temp Water\\', \\'pH\\', \\'E.coli C-MF\\']\\n# 删除指定列中任何一列为空的行\\ndf_cleaned = df.dropna(subset=columns_to_check)\\ndf_cleaned.to_csv(\\'cleaned_file.csv\\', index=False)\\nprint(\"处理后的数据已保存为 \\'cleaned_file.csv\\'\")\\'\\n'"
      ]
     },
     "execution_count": 115,
     "metadata": {},
     "output_type": "execute_result"
    }
   ],
   "source": [
    "'''\n",
    "# 去除空数据\n",
    "\n",
    "df = pd.read_csv('filtered_data.csv')\n",
    "\n",
    "columns_to_check = ['Cond @ 25C', 'Oxygen Diss', 'Temp Water', 'pH', 'E.coli C-MF']\n",
    "# 删除指定列中任何一列为空的行\n",
    "df_cleaned = df.dropna(subset=columns_to_check)\n",
    "df_cleaned.to_csv('cleaned_file.csv', index=False)\n",
    "print(\"处理后的数据已保存为 'cleaned_file.csv'\")'\n",
    "'''"
   ]
  },
  {
   "cell_type": "code",
   "execution_count": 116,
   "metadata": {},
   "outputs": [
    {
     "data": {
      "text/plain": [
       "\"\\n# 对数据进行正弦和余弦变换\\n\\ndata = pd.read_csv('cleaned_sin_cos_transformed.csv') \\ndata_with_interactions = calculate_correlation(data)\\n\\n# 将结果保存回原始 CSV 文件\\ndata_with_interactions.to_csv('1.csv', index=False)  # index=False 避免保存行索引''\\n\""
      ]
     },
     "execution_count": 116,
     "metadata": {},
     "output_type": "execute_result"
    }
   ],
   "source": [
    "'''\n",
    "# 对数据进行正弦和余弦变换\n",
    "\n",
    "data = pd.read_csv('cleaned_sin_cos_transformed.csv') \n",
    "data_with_interactions = calculate_correlation(data)\n",
    "\n",
    "# 将结果保存回原始 CSV 文件\n",
    "data_with_interactions.to_csv('1.csv', index=False)  # index=False 避免保存行索引''\n",
    "'''\n"
   ]
  },
  {
   "cell_type": "markdown",
   "metadata": {},
   "source": [
    "### **1. Read Data**"
   ]
  },
  {
   "cell_type": "code",
   "execution_count": 117,
   "metadata": {},
   "outputs": [
    {
     "data": {
      "text/plain": [
       "'\\n# 提取某一站点的数据\\ndf = pd.read_csv(\\'1.csv\\')  # 假设数据文件是 data.csv\\n\\nmost_common_value = df.iloc[:, 0].value_counts().idxmax() \\ndata = df[df.iloc[:, 0] == most_common_value]  # 筛选出第一列等于该值的所有行\\n#data.to_csv(\\'one_station.csv\\', index=False)  # 保存筛选后的数据\\n\\nunique_values = df.iloc[:, 0].unique()\\nprint(f\"共有 {len(unique_values)} 种不同的内容。\")\\nvalue_counts = df.iloc[:, 0].value_counts()\\n# 过滤出重复次数大于等于50的值\\nfiltered_values = value_counts[value_counts >= 50].index\\nfiltered_df = df[df.iloc[:, 0].isin(filtered_values)]\\nprint(f\"删除重复次数少于50的内容后，剩余数据量为: {len(filtered_df)} 行\")\\nunique_values = filtered_df.iloc[:, 0].unique()\\nprint(f\"共有 {len(unique_values)} 种不同的内容。\")\\nfiltered_df.to_csv(\\'2.csv\\', index=False)\\n'"
      ]
     },
     "execution_count": 117,
     "metadata": {},
     "output_type": "execute_result"
    }
   ],
   "source": [
    "'''\n",
    "# 提取某一站点的数据\n",
    "df = pd.read_csv('1.csv')  # 假设数据文件是 data.csv\n",
    "\n",
    "most_common_value = df.iloc[:, 0].value_counts().idxmax() \n",
    "data = df[df.iloc[:, 0] == most_common_value]  # 筛选出第一列等于该值的所有行\n",
    "#data.to_csv('one_station.csv', index=False)  # 保存筛选后的数据\n",
    "\n",
    "unique_values = df.iloc[:, 0].unique()\n",
    "print(f\"共有 {len(unique_values)} 种不同的内容。\")\n",
    "value_counts = df.iloc[:, 0].value_counts()\n",
    "# 过滤出重复次数大于等于50的值\n",
    "filtered_values = value_counts[value_counts >= 50].index\n",
    "filtered_df = df[df.iloc[:, 0].isin(filtered_values)]\n",
    "print(f\"删除重复次数少于50的内容后，剩余数据量为: {len(filtered_df)} 行\")\n",
    "unique_values = filtered_df.iloc[:, 0].unique()\n",
    "print(f\"共有 {len(unique_values)} 种不同的内容。\")\n",
    "filtered_df.to_csv('2.csv', index=False)\n",
    "'''"
   ]
  },
  {
   "cell_type": "code",
   "execution_count": 118,
   "metadata": {},
   "outputs": [
    {
     "data": {
      "text/plain": [
       "\"\\n# 独热编码\\ndf = pd.read_csv('2.csv')\\none_hot_encoded = pd.get_dummies(df.iloc[:, 0], prefix='Location', dtype=int)\\n\\npca = PCA(n_components=8)\\npca_features = pca.fit_transform(one_hot_encoded)\\n# 转换为 DataFrame\\npca_df = pd.DataFrame(pca_features, columns=['PC1', 'PC2', 'PC3', 'PC4', 'PC5', 'PC6', 'PC7', 'PC8'])\\n\\n\\ndf_encoded = pd.concat([pca_df, df], axis=1)\\ndf_encoded.to_csv('3_PCA.csv', index=False) \\n\""
      ]
     },
     "execution_count": 118,
     "metadata": {},
     "output_type": "execute_result"
    }
   ],
   "source": [
    "'''\n",
    "# 独热编码\n",
    "df = pd.read_csv('2.csv')\n",
    "one_hot_encoded = pd.get_dummies(df.iloc[:, 0], prefix='Location', dtype=int)\n",
    "\n",
    "pca = PCA(n_components=8)\n",
    "pca_features = pca.fit_transform(one_hot_encoded)\n",
    "# 转换为 DataFrame\n",
    "pca_df = pd.DataFrame(pca_features, columns=['PC1', 'PC2', 'PC3', 'PC4', 'PC5', 'PC6', 'PC7', 'PC8'])\n",
    "\n",
    "\n",
    "df_encoded = pd.concat([pca_df, df], axis=1)\n",
    "df_encoded.to_csv('3_PCA.csv', index=False) \n",
    "'''"
   ]
  },
  {
   "cell_type": "code",
   "execution_count": 162,
   "metadata": {},
   "outputs": [
    {
     "data": {
      "text/plain": [
       "(1381, 30)"
      ]
     },
     "execution_count": 162,
     "metadata": {},
     "output_type": "execute_result"
    }
   ],
   "source": [
    "df = pd.read_csv('stations_encoded_data_PCA.csv')\n",
    " \n",
    "data = df.values \n",
    "data.shape"
   ]
  },
  {
   "cell_type": "markdown",
   "metadata": {},
   "source": [
    "### **2. Preprocessing**"
   ]
  },
  {
   "cell_type": "code",
   "execution_count": null,
   "metadata": {},
   "outputs": [
    {
     "data": {
      "text/plain": [
       "array([[ 4,  5,  6,  7],\n",
       "       [ 8,  9, 10, 11],\n",
       "       [12, 13, 14, 15]])"
      ]
     },
     "execution_count": 159,
     "metadata": {},
     "output_type": "execute_result"
    }
   ],
   "source": [
    "'''\n",
    "data = np.array([\n",
    "    [1, 2, 3, 100],  # 第 0 行\n",
    "    [4, 5, 6, 7],     # 第 1 行\n",
    "    [8, 9, 10, 11],   # 第 2 行\n",
    "    [12, 13, 14, 15], # 第 3 行\n",
    "    [16, 17, 18, 200] # 第 4 行\n",
    "])\n",
    "col = data[:, 3]  # 第 0 行\n",
    "lower_bound = 5  # 下界\n",
    "upper_bound = 20  # 上界\n",
    "outlier_indices = np.where((col < lower_bound) | (col > upper_bound))[0]\n",
    "data = np.delete(data, outlier_indices, axis=0)\n",
    "data\n",
    "'''"
   ]
  },
  {
   "cell_type": "code",
   "execution_count": 169,
   "metadata": {},
   "outputs": [],
   "source": [
    "number_encoded_columns = 8\n",
    "\n",
    "# remove outliers\n",
    "def outlier_filter(data):\n",
    "    processed_data = data[:, number_encoded_columns:]\n",
    "\n",
    "    for i in range(processed_data.shape[1]):\n",
    "        processed_data = data[:, number_encoded_columns:]\n",
    "        col = processed_data[:, i]\n",
    "        mean = np.mean(col)\n",
    "        std = np.std(col)\n",
    "        print(f\"Mean: {mean}, Std: {std}\")\n",
    "        lower_bound = mean - 3 * std\n",
    "        upper_bound = mean + 3 * std\n",
    "        outlier_indices = np.where((col < lower_bound) | (col > upper_bound))[0]\n",
    "\n",
    "        if len(outlier_indices) > 0 :\n",
    "            data = np.delete(data, outlier_indices, axis=0)\n",
    "\n",
    "    \n",
    "\n",
    "    return data\n",
    "\n",
    "#normalization\n",
    "def z_score_normalization(data):\n",
    "    first_16_columns = data[:, :number_encoded_columns] \n",
    "    columns_to_normalize = data[:, number_encoded_columns:-1]  \n",
    "    last_column = data[:, -1:]\n",
    "\n",
    "    mean = np.mean(columns_to_normalize, axis=0)  \n",
    "    std = np.std(columns_to_normalize, axis=0)  \n",
    "    std[std == 0] = 1\n",
    "\n",
    "    normalized_columns = (columns_to_normalize - mean) / std\n",
    "    normalized_data = np.hstack((first_16_columns, normalized_columns, last_column))\n",
    "    \n",
    "    return normalized_data\n",
    "\n",
    "def calculate_correlation(data):\n",
    "    # Create new columns for pairwise multiplication of specific columns by their names\n",
    "    columns = ['Cond @ 25C','Oxygen Diss','Temp Water','pH','cos_day_of_year','sin_day_of_year']  # Update with actual column names\n",
    "    for i in range(len(columns)):\n",
    "        for j in range(i+1, len(columns)):\n",
    "            data[f'{columns[i]}_x_{columns[j]}'] = data[columns[i]] * data[columns[j]]\n",
    "\n",
    "    for col in columns:\n",
    "        data[f'{col}_squared'] = data[col] ** 2\n",
    "    return data\n"
   ]
  },
  {
   "cell_type": "code",
   "execution_count": 170,
   "metadata": {},
   "outputs": [
    {
     "data": {
      "text/plain": [
       "array([130., 235., 278., ..., 798., 417., 826.])"
      ]
     },
     "execution_count": 170,
     "metadata": {},
     "output_type": "execute_result"
    }
   ],
   "source": [
    "data[:, number_encoded_columns]"
   ]
  },
  {
   "cell_type": "code",
   "execution_count": 171,
   "metadata": {},
   "outputs": [
    {
     "name": "stdout",
     "output_type": "stream",
     "text": [
      "Mean: 776.1942795076033, Std: 417.60737631962286\n",
      "Mean: 9.592589311859443, Std: 2.400217483222545\n",
      "Mean: 10.85521064301552, Std: 3.937244766651587\n",
      "Mean: 7.86061732050333, Std: 0.3392034854709819\n",
      "Mean: 0.09482813422313627, Std: 0.6850441684039057\n",
      "Mean: -0.056076434529649624, Std: 0.7201232851297075\n",
      "Mean: 7058.916290662652, Std: 3218.3322433823064\n",
      "Mean: 8190.785129179331, Std: 4983.10418584518\n",
      "Mean: 5861.603733741393, Std: 2475.161623350687\n",
      "Mean: 62.94121702620601, Std: 544.4976720321102\n",
      "Mean: -58.4034832210526, Std: 589.3832031527124\n",
      "Mean: 99.01967381316999, Std: 35.384307031555714\n",
      "Mean: 75.39654298069497, Std: 18.775032606435147\n",
      "Mean: 1.603911863849773, Std: 6.593967394136216\n",
      "Mean: 0.21848606229198608, Std: 7.094185353691042\n",
      "Mean: 84.09586400928792, Std: 30.132555392048538\n",
      "Mean: -0.9379561517292532, Std: 7.795529359100446\n",
      "Mean: -1.642808220918621, Std: 8.056696093587883\n",
      "Mean: 0.8424638974689328, Std: 5.371538841546683\n",
      "Mean: -0.3771305662838455, Std: 5.6754764668040805\n",
      "Mean: -0.0022172302580871217, Std: 0.3665592942258901\n",
      "Mean: 192.8622291021672, Std: 179.98764034961522\n",
      "(1278, 30)\n"
     ]
    }
   ],
   "source": [
    "filtered_data = outlier_filter(data)\n",
    "print(filtered_data.shape)\n",
    "\n",
    "filtered_normalized_X = z_score_normalization(filtered_data)"
   ]
  },
  {
   "cell_type": "markdown",
   "metadata": {},
   "source": [
    "### **Model training**"
   ]
  },
  {
   "cell_type": "code",
   "execution_count": 172,
   "metadata": {},
   "outputs": [
    {
     "name": "stdout",
     "output_type": "stream",
     "text": [
      "Using device: cuda\n"
     ]
    }
   ],
   "source": [
    "# Configurations\n",
    "num_epochs = 1200\n",
    "batch_size = 128\n",
    "lr = 0.005\n",
    "input_feature_num = filtered_normalized_X.shape[1] - 1  \n",
    "\n",
    "train_losses = []\n",
    "val_losses = []\n",
    "test_losses = []\n",
    "best_loss = float('inf')  # 初始化最佳损失值为正无穷\n",
    "best_epoch = 0  # 记录最佳损失值对应的 epoch\n",
    "\n",
    "# 检查是否有可用的GPU\n",
    "device = torch.device('cuda' if torch.cuda.is_available() else 'cpu')\n",
    "print(f'Using device: {device}')\n",
    "\n",
    "\n",
    "# Prepare input and output data\n",
    "\n",
    "X = filtered_normalized_X[:, 0:-1]  # 所有样本的第 4-7 列作为输入\n",
    "y = filtered_normalized_X[:, -1]\n",
    "'''\n",
    "X = X_new  # 所有样本的第 4-7 列作为输入\n",
    "y = y\n",
    "'''\n",
    "# Split the data into training, validation, and testing sets\n",
    "X_train, X_temp, y_train, y_temp = train_test_split(X, y, test_size=0.3, random_state=42)  # 70% train, 30% temp\n",
    "X_val, X_test, y_val, y_test = train_test_split(X_temp, y_temp, test_size=0.5, random_state=42)  # 15% val, 15% test\n",
    "\n",
    "# Convert to PyTorch tensors and move to GPU\n",
    "X_train = torch.tensor(X_train, dtype=torch.float32).to(device)\n",
    "X_val = torch.tensor(X_val, dtype=torch.float32).to(device)\n",
    "X_test = torch.tensor(X_test, dtype=torch.float32).to(device)\n",
    "y_train = torch.tensor(y_train, dtype=torch.float32).view(-1, 1).to(device)\n",
    "y_val = torch.tensor(y_val, dtype=torch.float32).view(-1, 1).to(device)\n",
    "y_test = torch.tensor(y_test, dtype=torch.float32).view(-1, 1).to(device)\n",
    "\n",
    "# Create TensorDataset and DataLoader\n",
    "train_dataset = TensorDataset(X_train, y_train)\n",
    "val_dataset = TensorDataset(X_val, y_val)\n",
    "test_dataset = TensorDataset(X_test, y_test)\n",
    "\n",
    "train_loader = DataLoader(train_dataset, batch_size=batch_size, shuffle=False)\n",
    "val_loader = DataLoader(val_dataset, batch_size=batch_size, shuffle=False)\n",
    "test_loader = DataLoader(test_dataset, batch_size=128, shuffle=False)\n"
   ]
  },
  {
   "cell_type": "code",
   "execution_count": 173,
   "metadata": {},
   "outputs": [
    {
     "data": {
      "text/plain": [
       "array([ 90., 290.,  73., ..., 220., 135., 210.])"
      ]
     },
     "execution_count": 173,
     "metadata": {},
     "output_type": "execute_result"
    }
   ],
   "source": [
    "y"
   ]
  },
  {
   "cell_type": "code",
   "execution_count": 174,
   "metadata": {},
   "outputs": [
    {
     "name": "stdout",
     "output_type": "stream",
     "text": [
      "Epoch [10/1200], Train Loss: 144.6405, Val Loss: 103.7767\n",
      "Epoch [20/1200], Train Loss: 108.4679, Val Loss: 73.4939\n",
      "Epoch [30/1200], Train Loss: 90.1649, Val Loss: 57.4505\n",
      "Epoch [40/1200], Train Loss: 87.2631, Val Loss: 48.1853\n",
      "Epoch [50/1200], Train Loss: 78.4996, Val Loss: 40.3179\n",
      "Epoch [60/1200], Train Loss: 74.6765, Val Loss: 35.7784\n",
      "Epoch [70/1200], Train Loss: 80.0914, Val Loss: 31.1111\n",
      "Epoch [80/1200], Train Loss: 74.6038, Val Loss: 31.5822\n",
      "Epoch [90/1200], Train Loss: 72.3070, Val Loss: 29.9032\n",
      "Epoch [100/1200], Train Loss: 68.6070, Val Loss: 29.6612\n",
      "Epoch [110/1200], Train Loss: 71.5647, Val Loss: 29.1679\n",
      "Epoch [120/1200], Train Loss: 66.3386, Val Loss: 31.7192\n",
      "Epoch [130/1200], Train Loss: 70.0120, Val Loss: 33.5248\n",
      "Epoch [140/1200], Train Loss: 66.0856, Val Loss: 31.4224\n",
      "Epoch [150/1200], Train Loss: 72.0923, Val Loss: 28.5608\n",
      "Epoch [160/1200], Train Loss: 70.7273, Val Loss: 28.4313\n",
      "Epoch [170/1200], Train Loss: 70.6129, Val Loss: 28.5435\n",
      "Epoch [180/1200], Train Loss: 67.6501, Val Loss: 25.8797\n",
      "Epoch [190/1200], Train Loss: 68.6039, Val Loss: 27.1679\n",
      "Epoch [200/1200], Train Loss: 69.7713, Val Loss: 26.0699\n",
      "Epoch [210/1200], Train Loss: 65.5906, Val Loss: 32.1031\n",
      "Epoch [220/1200], Train Loss: 61.4343, Val Loss: 27.8586\n",
      "Epoch [230/1200], Train Loss: 65.3203, Val Loss: 27.4592\n",
      "Epoch [240/1200], Train Loss: 69.4646, Val Loss: 30.8295\n",
      "Epoch [250/1200], Train Loss: 64.7983, Val Loss: 28.8184\n",
      "Epoch [260/1200], Train Loss: 68.1180, Val Loss: 30.5407\n",
      "Epoch [270/1200], Train Loss: 68.1181, Val Loss: 25.2654\n",
      "Epoch [280/1200], Train Loss: 66.8461, Val Loss: 27.6866\n",
      "Epoch [290/1200], Train Loss: 67.3491, Val Loss: 28.9285\n",
      "Epoch [300/1200], Train Loss: 67.5780, Val Loss: 25.8208\n",
      "Epoch [310/1200], Train Loss: 59.2824, Val Loss: 25.3043\n",
      "Epoch [320/1200], Train Loss: 66.6277, Val Loss: 28.8365\n",
      "Epoch [330/1200], Train Loss: 64.5793, Val Loss: 26.8484\n",
      "Epoch [340/1200], Train Loss: 68.0649, Val Loss: 25.4445\n",
      "Epoch [350/1200], Train Loss: 65.4945, Val Loss: 30.0162\n",
      "Epoch [360/1200], Train Loss: 63.0141, Val Loss: 25.2729\n",
      "Epoch [370/1200], Train Loss: 70.3232, Val Loss: 25.5296\n",
      "Epoch [380/1200], Train Loss: 65.4774, Val Loss: 31.6600\n",
      "Epoch [390/1200], Train Loss: 65.6899, Val Loss: 26.1121\n",
      "Epoch [400/1200], Train Loss: 65.2467, Val Loss: 26.4488\n",
      "Epoch [410/1200], Train Loss: 66.2172, Val Loss: 27.7287\n",
      "Epoch [420/1200], Train Loss: 67.9379, Val Loss: 26.5099\n",
      "Epoch [430/1200], Train Loss: 63.7255, Val Loss: 27.7991\n",
      "Epoch [440/1200], Train Loss: 64.2021, Val Loss: 29.8696\n",
      "Epoch [450/1200], Train Loss: 73.4424, Val Loss: 28.1813\n",
      "Epoch [460/1200], Train Loss: 62.0650, Val Loss: 26.1137\n",
      "Epoch [470/1200], Train Loss: 68.4589, Val Loss: 33.5945\n",
      "Epoch [480/1200], Train Loss: 61.4308, Val Loss: 25.2735\n",
      "Epoch [490/1200], Train Loss: 69.9394, Val Loss: 28.2103\n",
      "Epoch [500/1200], Train Loss: 63.1981, Val Loss: 27.7768\n",
      "Epoch [510/1200], Train Loss: 65.0986, Val Loss: 30.8547\n",
      "Epoch [520/1200], Train Loss: 68.4489, Val Loss: 25.9960\n",
      "Epoch [530/1200], Train Loss: 64.1838, Val Loss: 25.2874\n",
      "Epoch [540/1200], Train Loss: 65.6466, Val Loss: 26.2696\n",
      "Epoch [550/1200], Train Loss: 66.6579, Val Loss: 28.5504\n",
      "Epoch [560/1200], Train Loss: 66.4260, Val Loss: 27.4164\n",
      "Epoch [570/1200], Train Loss: 66.0277, Val Loss: 29.3928\n",
      "Epoch [580/1200], Train Loss: 63.1824, Val Loss: 27.0971\n",
      "Epoch [590/1200], Train Loss: 60.6590, Val Loss: 25.9826\n",
      "Epoch [600/1200], Train Loss: 64.6743, Val Loss: 28.6914\n",
      "Epoch [610/1200], Train Loss: 75.1849, Val Loss: 29.2868\n",
      "Epoch [620/1200], Train Loss: 64.3236, Val Loss: 25.5873\n",
      "Epoch [630/1200], Train Loss: 62.2401, Val Loss: 25.2042\n",
      "Epoch [640/1200], Train Loss: 61.9003, Val Loss: 30.7257\n",
      "Epoch [650/1200], Train Loss: 64.8311, Val Loss: 27.5690\n",
      "Epoch [660/1200], Train Loss: 63.5669, Val Loss: 28.2084\n",
      "Epoch [670/1200], Train Loss: 63.8197, Val Loss: 28.8549\n",
      "Epoch [680/1200], Train Loss: 60.7280, Val Loss: 31.2635\n",
      "Epoch [690/1200], Train Loss: 65.3367, Val Loss: 26.2234\n",
      "Epoch [700/1200], Train Loss: 63.1461, Val Loss: 27.4617\n",
      "Epoch [710/1200], Train Loss: 63.5919, Val Loss: 26.0224\n",
      "Epoch [720/1200], Train Loss: 58.8967, Val Loss: 25.8345\n",
      "Epoch [730/1200], Train Loss: 62.4692, Val Loss: 27.2182\n",
      "Epoch [740/1200], Train Loss: 63.6926, Val Loss: 30.1780\n",
      "Epoch [750/1200], Train Loss: 60.3740, Val Loss: 25.2125\n",
      "Epoch [760/1200], Train Loss: 64.2280, Val Loss: 29.9380\n",
      "Epoch [770/1200], Train Loss: 66.0268, Val Loss: 27.2327\n",
      "Epoch [780/1200], Train Loss: 63.9881, Val Loss: 28.5897\n",
      "Epoch [790/1200], Train Loss: 66.8079, Val Loss: 30.3211\n",
      "Epoch [800/1200], Train Loss: 61.9183, Val Loss: 25.7833\n",
      "Epoch [810/1200], Train Loss: 68.6710, Val Loss: 28.8380\n",
      "Epoch [820/1200], Train Loss: 65.6616, Val Loss: 28.9607\n",
      "Epoch [830/1200], Train Loss: 62.0226, Val Loss: 28.1053\n",
      "Epoch [840/1200], Train Loss: 61.1128, Val Loss: 27.2100\n",
      "Epoch [850/1200], Train Loss: 63.1281, Val Loss: 28.7813\n",
      "Epoch [860/1200], Train Loss: 65.3250, Val Loss: 27.6646\n",
      "Epoch [870/1200], Train Loss: 61.7250, Val Loss: 27.6465\n",
      "Epoch [880/1200], Train Loss: 69.3224, Val Loss: 26.7492\n",
      "Epoch [890/1200], Train Loss: 59.8899, Val Loss: 27.1979\n",
      "Epoch [900/1200], Train Loss: 61.9618, Val Loss: 27.6588\n",
      "Epoch [910/1200], Train Loss: 67.8104, Val Loss: 26.7752\n",
      "Epoch [920/1200], Train Loss: 69.4352, Val Loss: 26.0916\n",
      "Epoch [930/1200], Train Loss: 60.3738, Val Loss: 28.9515\n",
      "Epoch [940/1200], Train Loss: 64.0837, Val Loss: 27.1518\n",
      "Epoch [950/1200], Train Loss: 63.4615, Val Loss: 25.0803\n",
      "Epoch [960/1200], Train Loss: 65.6119, Val Loss: 29.1946\n",
      "Epoch [970/1200], Train Loss: 59.8345, Val Loss: 26.7171\n",
      "Epoch [980/1200], Train Loss: 66.6137, Val Loss: 30.0462\n",
      "Epoch [990/1200], Train Loss: 67.1586, Val Loss: 27.5770\n",
      "Epoch [1000/1200], Train Loss: 66.4652, Val Loss: 25.9925\n",
      "Epoch [1010/1200], Train Loss: 64.4122, Val Loss: 26.9504\n",
      "Epoch [1020/1200], Train Loss: 60.8310, Val Loss: 26.9833\n",
      "Epoch [1030/1200], Train Loss: 60.2941, Val Loss: 27.9982\n",
      "Epoch [1040/1200], Train Loss: 62.8858, Val Loss: 27.1145\n",
      "Epoch [1050/1200], Train Loss: 70.2126, Val Loss: 33.8892\n",
      "Epoch [1060/1200], Train Loss: 64.5847, Val Loss: 27.8288\n",
      "Epoch [1070/1200], Train Loss: 62.6147, Val Loss: 27.2133\n",
      "Epoch [1080/1200], Train Loss: 63.0089, Val Loss: 25.5824\n",
      "Epoch [1090/1200], Train Loss: 62.3185, Val Loss: 28.7239\n",
      "Epoch [1100/1200], Train Loss: 56.6532, Val Loss: 28.2045\n",
      "Epoch [1110/1200], Train Loss: 58.1952, Val Loss: 25.4616\n",
      "Epoch [1120/1200], Train Loss: 61.2842, Val Loss: 29.1697\n",
      "Epoch [1130/1200], Train Loss: 64.1251, Val Loss: 29.8133\n",
      "Epoch [1140/1200], Train Loss: 63.0096, Val Loss: 34.4371\n",
      "Epoch [1150/1200], Train Loss: 63.1117, Val Loss: 29.0232\n",
      "Epoch [1160/1200], Train Loss: 63.4876, Val Loss: 27.2042\n",
      "Epoch [1170/1200], Train Loss: 63.5946, Val Loss: 29.6598\n",
      "Epoch [1180/1200], Train Loss: 59.4595, Val Loss: 25.3756\n",
      "Epoch [1190/1200], Train Loss: 64.1800, Val Loss: 26.4610\n",
      "Epoch [1200/1200], Train Loss: 59.9117, Val Loss: 26.2705\n",
      "Best Validation Loss: 24.4311 at Epoch 935\n"
     ]
    },
    {
     "data": {
      "image/png": "[encoded data removed]",
      "text/plain": [
       "<Figure size 640x480 with 1 Axes>"
      ]
     },
     "metadata": {},
     "output_type": "display_data"
    },
    {
     "name": "stdout",
     "output_type": "stream",
     "text": [
      "Final Test Loss: 9.3831\n",
      "\n",
      "Sample Predictions vs True Values:\n",
      "Predicted: 196.4307, True: 198.0000\n",
      "Predicted: 261.6694, True: 220.0000\n",
      "Predicted: 210.3148, True: 210.0000\n",
      "Predicted: 71.7033, True: 63.0000\n",
      "Predicted: 66.7225, True: 55.0000\n",
      "Predicted: 91.9341, True: 91.0000\n",
      "Predicted: 86.1041, True: 82.0000\n",
      "Predicted: 88.8924, True: 90.0000\n",
      "Predicted: 359.3006, True: 350.0000\n",
      "Predicted: 91.8489, True: 100.0000\n",
      "Predicted: 72.9527, True: 64.0000\n",
      "Predicted: 83.8245, True: 81.0000\n",
      "Predicted: 492.1885, True: 600.0000\n",
      "Predicted: 329.9203, True: 300.0000\n",
      "Predicted: 93.0046, True: 99.0000\n",
      "Predicted: 320.2635, True: 320.0000\n",
      "Predicted: 149.6856, True: 162.0000\n",
      "Predicted: 286.9358, True: 290.0000\n",
      "Predicted: 82.8604, True: 81.0000\n",
      "Predicted: 725.0803, True: 700.0000\n",
      "Predicted: 459.0964, True: 600.0000\n",
      "Predicted: 85.6646, True: 82.0000\n",
      "Predicted: 702.4377, True: 710.0000\n",
      "Predicted: 692.0786, True: 710.0000\n",
      "Predicted: 81.4417, True: 73.0000\n",
      "Predicted: 78.4954, True: 64.0000\n",
      "Predicted: 80.3080, True: 73.0000\n",
      "Predicted: 244.4407, True: 220.0000\n",
      "Predicted: 155.4077, True: 162.0000\n",
      "Predicted: 279.9603, True: 300.0000\n",
      "Predicted: 146.6415, True: 144.0000\n",
      "Predicted: 311.6400, True: 310.0000\n",
      "Predicted: 89.1279, True: 91.0000\n",
      "Predicted: 83.7591, True: 82.0000\n",
      "Predicted: 83.7802, True: 82.0000\n",
      "Predicted: 170.2367, True: 180.0000\n",
      "Predicted: 396.0030, True: 370.0000\n",
      "Predicted: 504.8465, True: 610.0000\n",
      "Predicted: 86.9642, True: 91.0000\n",
      "Predicted: 102.2077, True: 118.0000\n",
      "Predicted: 83.0882, True: 73.0000\n",
      "Predicted: 90.9774, True: 100.0000\n",
      "Predicted: 290.4687, True: 290.0000\n",
      "Predicted: 116.3803, True: 126.0000\n",
      "Predicted: 235.9613, True: 220.0000\n",
      "Predicted: 67.5309, True: 55.0000\n",
      "Predicted: 88.1794, True: 90.0000\n",
      "Predicted: 318.5688, True: 310.0000\n",
      "Predicted: 77.6799, True: 72.0000\n",
      "Predicted: 100.4617, True: 100.0000\n"
     ]
    },
    {
     "name": "stderr",
     "output_type": "stream",
     "text": [
      "/tmp/ipykernel_11720/1207115736.py:85: FutureWarning: You are using `torch.load` with `weights_only=False` (the current default value), which uses the default pickle module implicitly. It is possible to construct malicious pickle data which will execute arbitrary code during unpickling (See https://github.com/pytorch/pytorch/blob/main/SECURITY.md#untrusted-models for more details). In a future release, the default value for `weights_only` will be flipped to `True`. This limits the functions that could be executed during unpickling. Arbitrary objects will no longer be allowed to be loaded via this mode unless they are explicitly allowlisted by the user via `torch.serialization.add_safe_globals`. We recommend you start setting `weights_only=True` for any use case where you don't have full control of the loaded file. Please open an issue on GitHub for any issues related to this experimental feature.\n",
      "  model.load_state_dict(torch.load('best_model.pth'))\n"
     ]
    }
   ],
   "source": [
    "# ========================================\n",
    "# Define the neural network model\n",
    "# ========================================\n",
    "import torch.nn as nn\n",
    "\n",
    "class NeuralNetwork(nn.Module):\n",
    "    def __init__(self):\n",
    "        super(NeuralNetwork, self).__init__()\n",
    "        # 输入层到第一隐藏层\n",
    "        self.fc1 = nn.Linear(input_feature_num, 64)  # 输入特征数量为 input_feature_num，输出 128\n",
    "        self.dropout1 = nn.Dropout(0.5)  # Dropout 层，丢弃概率为 0.5\n",
    "        self.fc2 = nn.Linear(64, 32)  # 输入 64，输出 32\n",
    "        self.dropout2 = nn.Dropout(0.5)\n",
    "        self.fc3 = nn.Linear(32, 1)  # 输入 32，输出 16\n",
    "    \n",
    "    def forward(self, x):\n",
    "        x = torch.relu(self.fc1(x))\n",
    "        x = self.dropout1(x)\n",
    "        x = torch.relu(self.fc2(x))\n",
    "        x = self.dropout2(x)\n",
    "        x = self.fc3(x)\n",
    "        return x\n",
    "\n",
    "# 将模型移动到GPU\n",
    "model = NeuralNetwork().to(device)\n",
    "\n",
    "# Define loss function and optimizer\n",
    "criterion = nn.MSELoss()\n",
    "optimizer = optim.Adam(model.parameters(), lr=lr)\n",
    "\n",
    "\n",
    "# ========================================\n",
    "# Train the model\n",
    "# ========================================\n",
    "for epoch in range(num_epochs):\n",
    "    model.train()\n",
    "    epoch_train_loss = 0\n",
    "    for X_batch, y_batch in train_loader:\n",
    "        optimizer.zero_grad()\n",
    "        outputs = model(X_batch)\n",
    "        loss = criterion(outputs, y_batch)\n",
    "        loss = torch.sqrt(loss)\n",
    "        loss.backward()\n",
    "        optimizer.step()\n",
    "        epoch_train_loss += loss.item()\n",
    "    train_losses.append(epoch_train_loss / len(train_loader))\n",
    "    \n",
    "    # Validation\n",
    "    model.eval()\n",
    "    epoch_val_loss = 0\n",
    "    with torch.no_grad():\n",
    "        for X_batch, y_batch in val_loader:\n",
    "            val_outputs = model(X_batch)\n",
    "            val_loss = criterion(val_outputs, y_batch)\n",
    "            val_loss = torch.sqrt(val_loss)\n",
    "            epoch_val_loss += val_loss.item()\n",
    "            \n",
    "    val_losses.append(epoch_val_loss / len(val_loader))\n",
    "    \n",
    "    # 更新最佳损失值和对应的 epoch\n",
    "    if val_losses[-1] < best_loss:\n",
    "        best_loss = val_losses[-1]\n",
    "        best_epoch = epoch + 1  \n",
    "        best_model_state = model.state_dict()  # 保存最佳模型的参数\n",
    "        torch.save(best_model_state, 'best_model.pth')  # 保存模型到文件\n",
    "    \n",
    "    if (epoch+1) % 10 == 0:\n",
    "        print(f'Epoch [{epoch+1}/{num_epochs}], Train Loss: {train_losses[-1]:.4f}, Val Loss: {val_losses[-1]:.4f}')\n",
    "\n",
    "# 打印最佳损失值和对应的 epoch\n",
    "print(f'Best Validation Loss: {best_loss:.4f} at Epoch {best_epoch}')\n",
    "\n",
    "# Plot the loss\n",
    "plt.plot(train_losses[100:], label='train_loss')\n",
    "plt.plot(val_losses[100:], label='val_loss')\n",
    "plt.plot(test_losses[100:], label='test_loss')\n",
    "plt.xlabel('Epochs')\n",
    "plt.ylabel('Loss')\n",
    "plt.legend()\n",
    "plt.show()\n",
    "\n",
    "# ========================================\n",
    "# Evaluate the model on the test set\n",
    "# ========================================\n",
    "model.load_state_dict(torch.load('best_model.pth')) \n",
    "model.eval()\n",
    "test_loss = 0\n",
    "predictions = []\n",
    "true_values = []\n",
    "\n",
    "with torch.no_grad():\n",
    "    for X_batch, y_batch in test_loader:\n",
    "        outputs = model(X_batch)\n",
    "        test_loss += criterion(outputs, y_batch).item()\n",
    "        test_loss = np.sqrt(test_loss)\n",
    "        predictions.extend(outputs.cpu().numpy())\n",
    "        true_values.extend(y_batch.cpu().numpy())\n",
    "\n",
    "# 打印测试集损失\n",
    "test_loss /= len(test_loader)\n",
    "print(f'Final Test Loss: {test_loss:.4f}')\n",
    "\n",
    "# 打印部分预测值和真实值\n",
    "print(\"\\nSample Predictions vs True Values:\")\n",
    "for i in range(50):  # 打印前 10 个样本\n",
    "    print(f\"Predicted: {predictions[i][0]:.4f}, True: {true_values[i][0]:.4f}\")"
   ]
  },
  {
   "cell_type": "code",
   "execution_count": null,
   "metadata": {},
   "outputs": [],
   "source": []
  }
 ],
 "metadata": {
  "kernelspec": {
   "display_name": "roboenv2",
   "language": "python",
   "name": "python3"
  },
  "language_info": {
   "codemirror_mode": {
    "name": "ipython",
    "version": 3
   },
   "file_extension": ".py",
   "mimetype": "text/x-python",
   "name": "python",
   "nbconvert_exporter": "python",
   "pygments_lexer": "ipython3",
   "version": "3.11.9"
  }
 },
 "nbformat": 4,
 "nbformat_minor": 2
}
