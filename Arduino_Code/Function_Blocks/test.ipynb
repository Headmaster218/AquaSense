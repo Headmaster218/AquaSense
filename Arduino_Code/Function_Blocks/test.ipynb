{
 "cells": [
  {
   "cell_type": "code",
   "execution_count": 4,
   "metadata": {},
   "outputs": [],
   "source": [
    "import csv\n",
    "import serial\n",
    "import json\n",
    "import sqlite3\n",
    "from datetime import datetime, timedelta\n",
    "import serial.tools.list_ports\n",
    "from datetime import datetime\n",
    "import paho.mqtt.client as mqtt"
   ]
  },
  {
   "cell_type": "code",
   "execution_count": 1,
   "metadata": {},
   "outputs": [
    {
     "name": "stdout",
     "output_type": "stream",
     "text": [
      "      id            timestamp    DO     TDS      Tur     pH    Temp\n",
      "0      1  2025-03-25 10:42:17  0.14  391.73  2986.44   9.69   96.13\n",
      "1      2  2025-03-25 10:42:26  0.06  386.93  2986.44   9.69   97.58\n",
      "2      3  2025-03-25 10:42:36  0.06  386.93  2985.01   9.69   97.58\n",
      "3      4  2025-03-25 10:42:46 -0.22  382.24  2985.01   9.69   99.04\n",
      "4      5  2025-03-25 10:42:55 -0.22  382.98  2983.53   9.72   99.04\n",
      "..   ...                  ...   ...     ...      ...    ...     ...\n",
      "138  139  2025-03-25 11:04:21 -0.11  366.46  2957.22  10.05  107.93\n",
      "139  140  2025-03-25 11:04:30 -0.11  366.46  2957.22  10.05  107.93\n",
      "140  141  2025-03-25 11:04:40  0.00  362.30  2957.22  10.05  109.44\n",
      "141  142  2025-03-25 11:04:49  0.00  370.72  2957.22  10.05  106.43\n",
      "142  143  2025-03-25 11:04:59  0.00  370.72  2957.22  10.05  106.43\n",
      "\n",
      "[143 rows x 7 columns]\n"
     ]
    }
   ],
   "source": [
    "import sqlite3\n",
    "import pandas as pd\n",
    "\n",
    "# 连接到数据库\n",
    "db_file = \"sensor_data.db\"\n",
    "conn = sqlite3.connect(db_file)\n",
    "\n",
    "# 将数据加载到 DataFrame\n",
    "query = \"SELECT * FROM sensor_data\"\n",
    "df = pd.read_sql_query(query, conn)\n",
    "\n",
    "# 打印 DataFrame\n",
    "print(df)\n",
    "\n",
    "# 关闭连接\n",
    "conn.close()"
   ]
  },
  {
   "cell_type": "code",
   "execution_count": null,
   "metadata": {},
   "outputs": [
    {
     "data": {
      "text/plain": [
       "<MQTTErrorCode.MQTT_ERR_SUCCESS: 0>"
      ]
     },
     "execution_count": 6,
     "metadata": {},
     "output_type": "execute_result"
    }
   ],
   "source": [
    "broker_address = \"127.0.0.1\"  \n",
    "broker_port = 1883\n",
    "send_topic = \"AQ/data\"  \n",
    "request_topic = \"AQ/request\"  \n",
    "response_topic = \"AQ/response\"  \n",
    "\n",
    "client = mqtt.Client(mqtt.CallbackAPIVersion.VERSION2)\n",
    "\n",
    "# 连接到MQTT Broker \n",
    "client.connect(broker_address, broker_port)\n",
    "client.subscribe(send_topic)  \n",
    "client.subscribe(response_topic)  \n",
    "client.loop_start()"
   ]
  },
  {
   "cell_type": "code",
   "execution_count": null,
   "metadata": {},
   "outputs": [
    {
     "name": "stdout",
     "output_type": "stream",
     "text": [
      "Sent request for data from 2025-03-20 21:57:59 to 2025-03-20 21:58:09\n",
      "Sent history data to AQ/response\n"
     ]
    }
   ],
   "source": [
    "\n",
    "def get_user_input():\n",
    "    while True:\n",
    "        try:\n",
    "            start_time = input(\"Enter start time (YYYY-MM-DD HH:MM:SS): \")\n",
    "            end_time = input(\"Enter end time (YYYY-MM-DD HH:MM:SS): \")\n",
    "\n",
    "            # 验证时间格式\n",
    "            datetime.strptime(start_time, \"%Y-%m-%d %H:%M:%S\")\n",
    "            datetime.strptime(end_time, \"%Y-%m-%d %H:%M:%S\")\n",
    "\n",
    "            return start_time, end_time\n",
    "        except ValueError:\n",
    "            print(\"Invalid time format. Please use YYYY-MM-DD HH:MM:SS.\")\n",
    "\n",
    "def request_history(start_time, end_time):\n",
    "    payload = json.dumps({\"start_time\": start_time, \"end_time\": end_time})\n",
    "    client.publish(request_topic, payload)\n",
    "    print(f\"Sent request for data from {start_time} to {end_time}\")\n",
    "\n",
    "def query_history(start_time, end_time):\n",
    "    conn = sqlite3.connect(db_file)\n",
    "    cursor = conn.cursor()\n",
    "    cursor.execute(\"SELECT timestamp, DO, TDS, Tur, pH, Temp FROM sensor_data WHERE timestamp BETWEEN ? AND ?\", (start_time, end_time))\n",
    "    data = cursor.fetchall()\n",
    "    conn.close()\n",
    "    return data\n",
    "\n",
    "db_file = \"sensor_data.db\"\n",
    "\n",
    "#start_time, end_time = get_user_input()\n",
    "start_time = \"2025-03-20 21:57:59\"\n",
    "end_time = \"2025-03-20 21:58:09\"\n",
    "request_history(start_time, end_time)\n",
    "history_data = query_history(start_time, end_time)\n",
    "response = json.dumps(history_data)\n",
    "\n",
    "# 发送历史数据到接收端\n",
    "client.publish(response_topic, response)\n",
    "print(f\"Sent history data to {response_topic}\")"
   ]
  },
  {
   "cell_type": "code",
   "execution_count": null,
   "metadata": {},
   "outputs": [],
   "source": []
  }
 ],
 "metadata": {
  "kernelspec": {
   "display_name": "dl",
   "language": "python",
   "name": "python3"
  },
  "language_info": {
   "codemirror_mode": {
    "name": "ipython",
    "version": 3
   },
   "file_extension": ".py",
   "mimetype": "text/x-python",
   "name": "python",
   "nbconvert_exporter": "python",
   "pygments_lexer": "ipython3",
   "version": "3.9.21"
  }
 },
 "nbformat": 4,
 "nbformat_minor": 2
}
