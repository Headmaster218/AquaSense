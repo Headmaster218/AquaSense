{
 "cells": [
  {
   "cell_type": "code",
   "execution_count": 5,
   "metadata": {},
   "outputs": [],
   "source": [
    "import pandas as pd"
   ]
  },
  {
   "cell_type": "code",
   "execution_count": 6,
   "metadata": {},
   "outputs": [
    {
     "name": "stdout",
     "output_type": "stream",
     "text": [
      "<class 'pandas.core.frame.DataFrame'>\n",
      "RangeIndex: 295 entries, 0 to 294\n",
      "Data columns (total 10 columns):\n",
      " #   Column                             Non-Null Count  Dtype  \n",
      "---  ------                             --------------  -----  \n",
      " 0   Temperature                        295 non-null    float64\n",
      " 1   Dissolved Oxygen                   295 non-null    float64\n",
      " 2   pH                                 295 non-null    float64\n",
      " 3   Bio-Chemical Oxygen Demand (mg/L)  295 non-null    float64\n",
      " 4   Faecal Streptococci (MPN/ 100 mL)  295 non-null    float64\n",
      " 5   Nitrate (mg/ L)                    295 non-null    float64\n",
      " 6   Faecal Coliform (MPN/ 100 mL)      295 non-null    float64\n",
      " 7   Total Coliform (MPN/ 100 mL)       295 non-null    float64\n",
      " 8   Conductivity (mho/ Cm)             295 non-null    float64\n",
      " 9   WQI                                295 non-null    float64\n",
      "dtypes: float64(10)\n",
      "memory usage: 23.2 KB\n"
     ]
    }
   ],
   "source": [
    "# Step 1: Load the dataset\n",
    "file_path = './Water_pond_tanks_2021.csv'\n",
    "data = pd.read_csv(file_path, encoding='cp1252')\n",
    "data.info()"
   ]
  },
  {
   "cell_type": "code",
   "execution_count": 7,
   "metadata": {},
   "outputs": [
    {
     "data": {
      "text/plain": [
       "Temperature                          float64\n",
       "Dissolved Oxygen                     float64\n",
       "pH                                   float64\n",
       "Bio-Chemical Oxygen Demand (mg/L)    float64\n",
       "Faecal Streptococci (MPN/ 100 mL)    float64\n",
       "Nitrate (mg/ L)                      float64\n",
       "Faecal Coliform (MPN/ 100 mL)        float64\n",
       "Total Coliform (MPN/ 100 mL)         float64\n",
       "Conductivity (mho/ Cm)               float64\n",
       "WQI                                  float64\n",
       "dtype: object"
      ]
     },
     "execution_count": 7,
     "metadata": {},
     "output_type": "execute_result"
    }
   ],
   "source": [
    "#conversions\n",
    "data['Temperature(Max)']=pd.to_numeric(data['Temperature(Max)'],errors='coerce')\n",
    "\"data['Turbidity (NTU)']=pd.to_numeric(data['Turbidity (NTU)'],errors='coerce')\"\n",
    "data['Dissolved Oxygen (mg/L) (Max)']=pd.to_numeric(data['Dissolved Oxygen (mg/L) (Max)'],errors='coerce')\n",
    "data['pH']=pd.to_numeric(data['pH'],errors='coerce')\n",
    "data['Bio-Chemical Oxygen Demand (mg/L)']=pd.to_numeric(data['Bio-Chemical Oxygen Demand (mg/L)'],errors='coerce')\n",
    "data['Faecal Streptococci (MPN/ 100 mL)']=pd.to_numeric(data['Faecal Streptococci (MPN/ 100 mL)'],errors='coerce')\n",
    "data['Nitrate (mg/ L)']=pd.to_numeric(data['Nitrate (mg/ L)'],errors='coerce')\n",
    "data['Faecal Coliform (MPN/ 100 mL)']=pd.to_numeric(data['Faecal Coliform (MPN/ 100 mL)'],errors='coerce')\n",
    "data['Conductivity (mho/ Cm)']=pd.to_numeric(data['Conductivity (mho/ Cm)'],errors='coerce')\n",
    "\n",
    "data.dtypes"
   ]
  },
  {
   "cell_type": "code",
   "execution_count": 8,
   "metadata": {},
   "outputs": [
    {
     "name": "stdout",
     "output_type": "stream",
     "text": [
      "<class 'pandas.core.frame.DataFrame'>\n",
      "RangeIndex: 295 entries, 0 to 294\n",
      "Data columns (total 6 columns):\n",
      " #   Column                         Non-Null Count  Dtype  \n",
      "---  ------                         --------------  -----  \n",
      " 0   Temperature                    295 non-null    float64\n",
      " 1   Dissolved Oxygen               295 non-null    float64\n",
      " 2   pH                             295 non-null    float64\n",
      " 3   Conductivity (mho/ Cm)         295 non-null    float64\n",
      " 4   Faecal Coliform (MPN/ 100 mL)  295 non-null    float64\n",
      " 5   Total Coliform (MPN/ 100 mL)   295 non-null    float64\n",
      "dtypes: float64(6)\n",
      "memory usage: 14.0 KB\n"
     ]
    }
   ],
   "source": [
    "# Step 2: Select relevant columns\n",
    "columns_to_keep = ['Temperature(Max)', 'Dissolved Oxygen (mg/L) (Max)', 'pH', 'Conductivity (mho/ Cm)', 'Faecal Coliform (MPN/ 100 mL)', 'Total Coliform (MPN/ 100 mL)']\n",
    "filtered_data = data[columns_to_keep]\n",
    "\n",
    "# Display filtered dataset information\n",
    "filtered_data.info()"
   ]
  },
  {
   "cell_type": "code",
   "execution_count": 9,
   "metadata": {},
   "outputs": [],
   "source": [
    "# Step 3: Save the filtered data to a new CSV file\n",
    "filtered_file_path = './filtered_Water_pond_tanks_2021.csv'\n",
    "filtered_data.to_csv(filtered_file_path, index=False)"
   ]
  }
 ],
 "metadata": {
  "kernelspec": {
   "display_name": "Python 3",
   "language": "python",
   "name": "python3"
  },
  "language_info": {
   "codemirror_mode": {
    "name": "ipython",
    "version": 3
   },
   "file_extension": ".py",
   "mimetype": "text/x-python",
   "name": "python",
   "nbconvert_exporter": "python",
   "pygments_lexer": "ipython3",
   "version": "3.11.11"
  }
 },
 "nbformat": 4,
 "nbformat_minor": 2
}
